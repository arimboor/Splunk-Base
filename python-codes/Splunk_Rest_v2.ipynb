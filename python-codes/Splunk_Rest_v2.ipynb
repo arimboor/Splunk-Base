{
 "cells": [
  {
   "cell_type": "code",
   "execution_count": 12,
   "metadata": {},
   "outputs": [],
   "source": [
    "import requests\n",
    "import time\n",
    "\n",
    "\n",
    "def splunk():\n",
    "\n",
    "    uid=\"sid0003\"\n",
    "    username=\"platform\"\n",
    "    password=\"Test@123\"\n",
    "\n",
    "    query=\"\"\" \n",
    "    \n",
    "    search index=_* sourcetype=audittrail action=\"login attempt\" \n",
    "    | table user action _time\n",
    "    \n",
    "    \"\"\"\n",
    "\n",
    "    post_data ={ 'id':uid,'max_count':'200','search':query,'earliest_time':'-24h','latest_time':'now'}\n",
    "\n",
    "\n",
    "    splunk_url='https://192.168.0.200:8089/servicesNS/{}/search/search/jobs'.format(username)\n",
    "    resp= requests.post(splunk_url, data=post_data,verify=False,auth=(username,password))\n",
    "    #print(resp.text)\n",
    "    completed=\"\"\n",
    "\n",
    "    while(completed!=\"DONE\"):\n",
    "        time.sleep(5)\n",
    "        get_data={'output_mode':'json'}\n",
    "        job_splunk_url='https://192.168.0.200:8089/servicesNS/{}/search/search/jobs/{}'.format(username,uid)\n",
    "        job_resposne =requests.post(job_splunk_url, data=get_data,verify=False,auth=(username,password))\n",
    "\n",
    "        job_output=job_resposne.json()\n",
    "        completed=job_output['entry'][0]['content']['dispatchState']\n",
    "        #print(\"job status is {}\".format(completed))\n",
    "\n",
    "\n",
    "    query_results='https://192.168.0.200:8089/servicesNS/{}/search/search/jobs/{}/results'.format(username,uid)\n",
    "    result_resposne =requests.get(query_results, data=get_data,verify=False,auth=(username,password))\n",
    "    data=result_resposne.json()\n",
    "\n",
    "    #print(data)\n",
    "    for i in data['results']:\n",
    "        print(i)"
   ]
  },
  {
   "cell_type": "code",
   "execution_count": 13,
   "metadata": {},
   "outputs": [
    {
     "name": "stderr",
     "output_type": "stream",
     "text": [
      "/root/anaconda3/lib/python3.7/site-packages/urllib3/connectionpool.py:1004: InsecureRequestWarning: Unverified HTTPS request is being made to host '192.168.0.200'. Adding certificate verification is strongly advised. See: https://urllib3.readthedocs.io/en/latest/advanced-usage.html#ssl-warnings\n",
      "  InsecureRequestWarning,\n"
     ]
    },
    {
     "name": "stdout",
     "output_type": "stream",
     "text": [
      "{'user': 'platform', 'action': 'login attempt', '_time': '2021-06-16T15:19:54.596+00:00'}\n",
      "{'user': 'platform', 'action': 'login attempt', '_time': '2021-06-16T15:19:42.626+00:00'}\n",
      "{'user': 'platform', 'action': 'login attempt', '_time': '2021-06-16T15:19:36.141+00:00'}\n",
      "{'user': 'platform', 'action': 'login attempt', '_time': '2021-06-16T15:18:31.312+00:00'}\n",
      "{'user': 'platform', 'action': 'login attempt', '_time': '2021-06-16T15:18:26.299+00:00'}\n",
      "{'user': 'platform', 'action': 'login attempt', '_time': '2021-06-16T15:18:05.171+00:00'}\n",
      "{'user': 'platform', 'action': 'login attempt', '_time': '2021-06-16T15:18:00.162+00:00'}\n",
      "{'user': 'admin', 'action': 'login attempt', '_time': '2021-06-16T15:16:40.403+00:00'}\n",
      "{'user': 'admin', 'action': 'login attempt', '_time': '2021-06-16T15:16:40.395+00:00'}\n",
      "{'user': 'admin', 'action': 'login attempt', '_time': '2021-06-16T15:16:35.374+00:00'}\n",
      "{'user': 'admin', 'action': 'login attempt', '_time': '2021-06-16T15:15:04.252+00:00'}\n",
      "{'user': 'admin', 'action': 'login attempt', '_time': '2021-06-16T15:15:04.244+00:00'}\n",
      "{'user': 'admin', 'action': 'login attempt', '_time': '2021-06-16T15:14:59.230+00:00'}\n",
      "{'user': 'admin', 'action': 'login attempt', '_time': '2021-06-16T15:13:53.360+00:00'}\n",
      "{'user': 'admin', 'action': 'login attempt', '_time': '2021-06-16T15:13:53.352+00:00'}\n",
      "{'user': 'admin', 'action': 'login attempt', '_time': '2021-06-16T15:13:48.334+00:00'}\n",
      "{'user': 'admin', 'action': 'login attempt', '_time': '2021-06-16T15:12:36.669+00:00'}\n",
      "{'user': 'admin', 'action': 'login attempt', '_time': '2021-06-16T15:12:36.661+00:00'}\n",
      "{'user': 'admin', 'action': 'login attempt', '_time': '2021-06-16T15:12:31.648+00:00'}\n",
      "{'user': 'admin', 'action': 'login attempt', '_time': '2021-06-16T15:10:35.183+00:00'}\n",
      "{'user': 'admin', 'action': 'login attempt', '_time': '2021-06-16T15:10:35.149+00:00'}\n",
      "{'user': 'admin', 'action': 'login attempt', '_time': '2021-06-16T15:10:29.572+00:00'}\n",
      "{'user': 'admin', 'action': 'login attempt', '_time': '2021-06-16T15:09:58.165+00:00'}\n",
      "{'user': 'admin', 'action': 'login attempt', '_time': '2021-06-16T15:09:31.721+00:00'}\n",
      "{'user': 'admin', 'action': 'login attempt', '_time': '2021-06-16T15:08:42.333+00:00'}\n",
      "{'user': 'admin', 'action': 'login attempt', '_time': '2021-06-16T15:08:42.309+00:00'}\n",
      "{'user': 'admin', 'action': 'login attempt', '_time': '2021-06-16T15:08:36.663+00:00'}\n",
      "{'user': 'admin', 'action': 'login attempt', '_time': '2021-06-16T15:08:24.352+00:00'}\n",
      "{'user': 'admin', 'action': 'login attempt', '_time': '2021-06-16T15:08:18.712+00:00'}\n",
      "{'user': 'admin', 'action': 'login attempt', '_time': '2021-06-16T15:07:49.961+00:00'}\n",
      "{'user': 'admin', 'action': 'login attempt', '_time': '2021-06-16T15:07:25.535+00:00'}\n",
      "{'user': 'admin', 'action': 'login attempt', '_time': '2021-06-16T15:02:34.871+00:00'}\n",
      "{'user': 'admin', 'action': 'login attempt', '_time': '2021-06-16T15:02:28.954+00:00'}\n",
      "{'user': 'admin', 'action': 'login attempt', '_time': '2021-06-16T15:02:15.480+00:00'}\n",
      "{'user': 'admin', 'action': 'login attempt', '_time': '2021-06-16T14:52:41.853+00:00'}\n",
      "{'user': 'admin', 'action': 'login attempt', '_time': '2021-06-16T14:07:03.704+00:00'}\n",
      "{'user': 'admin', 'action': 'login attempt', '_time': '2021-06-16T13:33:42.137+00:00'}\n",
      "{'user': 'platform', 'action': 'login attempt', '_time': '2021-06-16T15:20:04.582+00:00'}\n"
     ]
    },
    {
     "name": "stderr",
     "output_type": "stream",
     "text": [
      "/root/anaconda3/lib/python3.7/site-packages/urllib3/connectionpool.py:1004: InsecureRequestWarning: Unverified HTTPS request is being made to host '192.168.0.200'. Adding certificate verification is strongly advised. See: https://urllib3.readthedocs.io/en/latest/advanced-usage.html#ssl-warnings\n",
      "  InsecureRequestWarning,\n",
      "/root/anaconda3/lib/python3.7/site-packages/urllib3/connectionpool.py:1004: InsecureRequestWarning: Unverified HTTPS request is being made to host '192.168.0.200'. Adding certificate verification is strongly advised. See: https://urllib3.readthedocs.io/en/latest/advanced-usage.html#ssl-warnings\n",
      "  InsecureRequestWarning,\n"
     ]
    }
   ],
   "source": [
    "splunk()"
   ]
  },
  {
   "cell_type": "code",
   "execution_count": null,
   "metadata": {},
   "outputs": [],
   "source": []
  },
  {
   "cell_type": "code",
   "execution_count": null,
   "metadata": {},
   "outputs": [],
   "source": []
  }
 ],
 "metadata": {
  "kernelspec": {
   "display_name": "Python 3",
   "language": "python",
   "name": "python3"
  },
  "language_info": {
   "codemirror_mode": {
    "name": "ipython",
    "version": 3
   },
   "file_extension": ".py",
   "mimetype": "text/x-python",
   "name": "python",
   "nbconvert_exporter": "python",
   "pygments_lexer": "ipython3",
   "version": "3.7.6"
  }
 },
 "nbformat": 4,
 "nbformat_minor": 4
}
